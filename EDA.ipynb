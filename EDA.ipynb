{
 "cells": [
  {
   "cell_type": "code",
   "execution_count": 1,
   "id": "102facea",
   "metadata": {},
   "outputs": [],
   "source": [
    "##Importing all the required libraries\n",
    "\n",
    "import numpy as np\n",
    "import pandas as pd \n",
    "from sklearn.metrics import precision_score\n",
    "from sklearn.metrics import recall_score\n",
    "from sklearn.metrics import f1_score\n",
    "from sklearn.metrics import accuracy_score\n",
    "from sklearn.tree import DecisionTreeClassifier\n",
    "from sklearn.ensemble import RandomForestClassifier\n",
    "from sklearn.linear_model import LogisticRegression\n",
    "\n",
    "import warnings\n",
    "warnings.filterwarnings('ignore')"
   ]
  },
  {
   "cell_type": "code",
   "execution_count": 2,
   "id": "b9f8d281",
   "metadata": {},
   "outputs": [],
   "source": [
    "##Reading the CSV files\n",
    "\n",
    "df_mon = pd.read_csv(\"Monday-WorkingHours.pcap_ISCX.csv\")\n",
    "df_tue = pd.read_csv(\"Tuesday-WorkingHours.pcap_ISCX.csv\")\n",
    "df_wed = pd.read_csv(\"Wednesday-workingHours.pcap_ISCX.csv\")\n",
    "df_thur_mor = pd.read_csv(\"Thursday-WorkingHours-Morning-WebAttacks.pcap_ISCX.csv\")\n",
    "df_thur_after = pd.read_csv(\"Thursday-WorkingHours-Afternoon-Infilteration.pcap_ISCX.csv\")\n",
    "df_fri_mor = pd.read_csv(\"Friday-WorkingHours-Morning.pcap_ISCX.csv\")\n",
    "df_fri_after1 = pd.read_csv(\"Friday-WorkingHours-Afternoon-PortScan.pcap_ISCX.csv\")\n",
    "df_fri_after2 = pd.read_csv(\"Friday-WorkingHours-Afternoon-DDos.pcap_ISCX.csv\")"
   ]
  },
  {
   "cell_type": "code",
   "execution_count": 3,
   "id": "bc70dc18",
   "metadata": {},
   "outputs": [],
   "source": [
    "df = pd.DataFrame()"
   ]
  },
  {
   "cell_type": "code",
   "execution_count": 4,
   "id": "826d207e",
   "metadata": {},
   "outputs": [],
   "source": [
    "##Merging all the dataframes into one\n",
    "\n",
    "df = df.append(df_mon)\n",
    "df = df.append(df_tue)\n",
    "df = df.append(df_wed)\n",
    "df = df.append(df_thur_mor)\n",
    "df = df.append(df_thur_after)\n",
    "df = df.append(df_fri_mor)\n",
    "df = df.append(df_fri_after1)\n",
    "df = df.append(df_fri_after2)"
   ]
  },
  {
   "cell_type": "code",
   "execution_count": 5,
   "id": "5c36a2f4",
   "metadata": {},
   "outputs": [],
   "source": [
    "##Resetting Indices\n",
    "df.reset_index(drop=True,inplace=True)"
   ]
  },
  {
   "cell_type": "code",
   "execution_count": 6,
   "id": "76d1a0a7",
   "metadata": {},
   "outputs": [],
   "source": [
    "##Dropping NaN values\n",
    "df.dropna(inplace=True)"
   ]
  },
  {
   "cell_type": "code",
   "execution_count": 7,
   "id": "f04830a2",
   "metadata": {},
   "outputs": [
    {
     "data": {
      "text/plain": [
       "(2829385, 79)"
      ]
     },
     "execution_count": 7,
     "metadata": {},
     "output_type": "execute_result"
    }
   ],
   "source": [
    "df.shape"
   ]
  },
  {
   "cell_type": "code",
   "execution_count": 8,
   "id": "eabc5971",
   "metadata": {},
   "outputs": [],
   "source": [
    "df.columns = df.columns.str.strip()"
   ]
  },
  {
   "cell_type": "code",
   "execution_count": 9,
   "id": "9568ea1a",
   "metadata": {},
   "outputs": [],
   "source": [
    "##Dropping values with infinity\n",
    "df.drop(df[df[\"Flow Bytes/s\"] == np.inf].index, inplace=True)"
   ]
  },
  {
   "cell_type": "code",
   "execution_count": 10,
   "id": "9e0489f7",
   "metadata": {},
   "outputs": [
    {
     "data": {
      "text/plain": [
       "(2827876, 79)"
      ]
     },
     "execution_count": 10,
     "metadata": {},
     "output_type": "execute_result"
    }
   ],
   "source": [
    "df.shape"
   ]
  },
  {
   "cell_type": "code",
   "execution_count": 11,
   "id": "27f4dcff",
   "metadata": {},
   "outputs": [],
   "source": [
    "df.reset_index(drop=True,inplace=True)"
   ]
  },
  {
   "cell_type": "code",
   "execution_count": 12,
   "id": "1ee220e6",
   "metadata": {},
   "outputs": [
    {
     "data": {
      "text/plain": [
       "array(['BENIGN', 'FTP-Patator', 'SSH-Patator', 'DoS slowloris',\n",
       "       'DoS Slowhttptest', 'DoS Hulk', 'DoS GoldenEye', 'Heartbleed',\n",
       "       'Web Attack � Brute Force', 'Web Attack � XSS',\n",
       "       'Web Attack � Sql Injection', 'Infiltration', 'Bot', 'PortScan',\n",
       "       'DDoS'], dtype=object)"
      ]
     },
     "execution_count": 12,
     "metadata": {},
     "output_type": "execute_result"
    }
   ],
   "source": [
    "df[\"Label\"].unique()"
   ]
  },
  {
   "cell_type": "code",
   "execution_count": 13,
   "id": "3085f392",
   "metadata": {},
   "outputs": [],
   "source": [
    "##Factorizing the labels inorder to calculate the feature importance.\n",
    "df['Label'] = pd.factorize(df['Label'])[0]"
   ]
  },
  {
   "cell_type": "code",
   "execution_count": 14,
   "id": "f66ef164",
   "metadata": {},
   "outputs": [
    {
     "data": {
      "text/plain": [
       "array([ 0,  1,  2,  3,  4,  5,  6,  7,  8,  9, 10, 11, 12, 13, 14],\n",
       "      dtype=int64)"
      ]
     },
     "execution_count": 14,
     "metadata": {},
     "output_type": "execute_result"
    }
   ],
   "source": [
    "df[\"Label\"].unique()"
   ]
  },
  {
   "cell_type": "code",
   "execution_count": 15,
   "id": "091c4e72",
   "metadata": {},
   "outputs": [],
   "source": [
    "X = df.iloc[:,:-1] \n",
    "Y = df.iloc[:,-1]"
   ]
  },
  {
   "cell_type": "markdown",
   "id": "4f2af77a",
   "metadata": {},
   "source": [
    "## Feature Selection"
   ]
  },
  {
   "cell_type": "code",
   "execution_count": 16,
   "id": "e2134408",
   "metadata": {},
   "outputs": [
    {
     "name": "stdout",
     "output_type": "stream",
     "text": [
      "[4.79914625e-02 1.49910125e-02 1.25177896e-02 7.10170246e-03\n",
      " 6.86606730e-03 4.02360378e-03 9.95294973e-03 1.15612186e-02\n",
      " 9.54783861e-03 9.62721184e-03 2.83991597e-02 2.60074577e-02\n",
      " 4.08183306e-02 2.54480220e-02 2.98693466e-03 9.98311433e-03\n",
      " 6.93904152e-03 1.19256597e-02 2.30263588e-02 5.61023527e-03\n",
      " 1.56329308e-02 1.34992472e-02 3.02754889e-02 2.40037750e-02\n",
      " 5.78087060e-03 7.19922538e-03 4.34660208e-03 4.34822406e-03\n",
      " 5.17205816e-03 2.72436675e-03 4.28486576e-03 0.00000000e+00\n",
      " 8.75906154e-06 0.00000000e+00 1.38407524e-02 7.91184558e-03\n",
      " 1.88114482e-02 5.70252443e-03 1.77977423e-02 1.88166587e-02\n",
      " 2.95354300e-02 2.96893220e-02 2.60954131e-02 8.78259399e-03\n",
      " 5.52240120e-03 1.06243546e-06 5.58605922e-02 3.02803772e-02\n",
      " 9.59803297e-03 1.15700455e-05 3.84984982e-07 1.17732540e-02\n",
      " 3.09457994e-02 1.14208849e-02 3.58001898e-02 1.01380161e-02\n",
      " 0.00000000e+00 0.00000000e+00 0.00000000e+00 0.00000000e+00\n",
      " 0.00000000e+00 0.00000000e+00 8.40884136e-03 7.09582117e-03\n",
      " 5.28423757e-03 8.65102270e-03 3.07731328e-02 7.62364997e-03\n",
      " 1.27402950e-02 4.17977052e-02 1.53429300e-03 2.52370646e-04\n",
      " 2.33253997e-03 1.57248346e-03 1.69613453e-02 3.28010000e-03\n",
      " 1.99598320e-02 2.07944491e-02]\n"
     ]
    }
   ],
   "source": [
    "##Calculating the importance score of all the features\n",
    "\n",
    "from sklearn.ensemble import ExtraTreesClassifier\n",
    "import matplotlib.pyplot as plt\n",
    "model = ExtraTreesClassifier()\n",
    "model.fit(X,Y)\n",
    "print(model.feature_importances_)"
   ]
  },
  {
   "cell_type": "code",
   "execution_count": 17,
   "id": "731c4be9",
   "metadata": {},
   "outputs": [
    {
     "data": {
      "image/png": "[encoded data removed]",
      "text/plain": [
       "<Figure size 432x288 with 1 Axes>"
      ]
     },
     "metadata": {
      "needs_background": "light"
     },
     "output_type": "display_data"
    }
   ],
   "source": [
    "##Plotting top 10 features\n",
    "\n",
    "feat_importances = pd.Series(model.feature_importances_, index=X.columns)\n",
    "feat_importances.nlargest(10).plot(kind='barh')\n",
    "plt.title(\"Important Features\")\n",
    "plt.show()"
   ]
  },
  {
   "cell_type": "code",
   "execution_count": 18,
   "id": "708518a8",
   "metadata": {},
   "outputs": [],
   "source": [
    "feature_imp = model.feature_importances_"
   ]
  },
  {
   "cell_type": "code",
   "execution_count": 19,
   "id": "9d9cd403",
   "metadata": {},
   "outputs": [
    {
     "data": {
      "text/plain": [
       "array([4.79914625e-02, 1.49910125e-02, 1.25177896e-02, 7.10170246e-03,\n",
       "       6.86606730e-03, 4.02360378e-03, 9.95294973e-03, 1.15612186e-02,\n",
       "       9.54783861e-03, 9.62721184e-03, 2.83991597e-02, 2.60074577e-02,\n",
       "       4.08183306e-02, 2.54480220e-02, 2.98693466e-03, 9.98311433e-03,\n",
       "       6.93904152e-03, 1.19256597e-02, 2.30263588e-02, 5.61023527e-03,\n",
       "       1.56329308e-02, 1.34992472e-02, 3.02754889e-02, 2.40037750e-02,\n",
       "       5.78087060e-03, 7.19922538e-03, 4.34660208e-03, 4.34822406e-03,\n",
       "       5.17205816e-03, 2.72436675e-03, 4.28486576e-03, 0.00000000e+00,\n",
       "       8.75906154e-06, 0.00000000e+00, 1.38407524e-02, 7.91184558e-03,\n",
       "       1.88114482e-02, 5.70252443e-03, 1.77977423e-02, 1.88166587e-02,\n",
       "       2.95354300e-02, 2.96893220e-02, 2.60954131e-02, 8.78259399e-03,\n",
       "       5.52240120e-03, 1.06243546e-06, 5.58605922e-02, 3.02803772e-02,\n",
       "       9.59803297e-03, 1.15700455e-05, 3.84984982e-07, 1.17732540e-02,\n",
       "       3.09457994e-02, 1.14208849e-02, 3.58001898e-02, 1.01380161e-02,\n",
       "       0.00000000e+00, 0.00000000e+00, 0.00000000e+00, 0.00000000e+00,\n",
       "       0.00000000e+00, 0.00000000e+00, 8.40884136e-03, 7.09582117e-03,\n",
       "       5.28423757e-03, 8.65102270e-03, 3.07731328e-02, 7.62364997e-03,\n",
       "       1.27402950e-02, 4.17977052e-02, 1.53429300e-03, 2.52370646e-04,\n",
       "       2.33253997e-03, 1.57248346e-03, 1.69613453e-02, 3.28010000e-03,\n",
       "       1.99598320e-02, 2.07944491e-02])"
      ]
     },
     "execution_count": 19,
     "metadata": {},
     "output_type": "execute_result"
    }
   ],
   "source": [
    "feature_imp"
   ]
  },
  {
   "cell_type": "code",
   "execution_count": 20,
   "id": "ff4eb74b",
   "metadata": {},
   "outputs": [],
   "source": [
    "feature_imp_lst = []\n",
    "for i in range(len(feature_imp)):\n",
    "    feature_imp_lst.append((df.columns[i],feature_imp[i]))"
   ]
  },
  {
   "cell_type": "code",
   "execution_count": 21,
   "id": "16929605",
   "metadata": {},
   "outputs": [],
   "source": [
    "feature_imp_lst.sort(key=lambda x:x[1],reverse=True)"
   ]
  },
  {
   "cell_type": "code",
   "execution_count": 22,
   "id": "0c66f649",
   "metadata": {},
   "outputs": [
    {
     "data": {
      "text/plain": [
       "[('PSH Flag Count', 0.05586059216989661),\n",
       " ('Destination Port', 0.047991462528883526),\n",
       " ('min_seg_size_forward', 0.041797705178049316),\n",
       " ('Bwd Packet Length Mean', 0.04081833056375885),\n",
       " ('Avg Bwd Segment Size', 0.03580018984529579),\n",
       " ('Average Packet Size', 0.03094579941010607),\n",
       " ('Init_Win_bytes_forward', 0.03077313278869081),\n",
       " ('ACK Flag Count', 0.030280377236033412),\n",
       " ('Fwd IAT Std', 0.03027548885168945),\n",
       " ('Packet Length Std', 0.029689322028411517),\n",
       " ('Packet Length Mean', 0.029535430006451917),\n",
       " ('Bwd Packet Length Max', 0.028399159713345737),\n",
       " ('Packet Length Variance', 0.026095413090923923),\n",
       " ('Bwd Packet Length Min', 0.02600745766978652),\n",
       " ('Bwd Packet Length Std', 0.0254480220027235),\n",
       " ('Fwd IAT Max', 0.024003774987161414),\n",
       " ('Flow IAT Max', 0.023026358849158598),\n",
       " ('Idle Min', 0.020794449133438732),\n",
       " ('Idle Max', 0.01995983197142777),\n",
       " ('Max Packet Length', 0.018816658651158755),\n",
       " ('Fwd Packets/s', 0.018811448191202784),\n",
       " ('Min Packet Length', 0.017797742292609296),\n",
       " ('Idle Mean', 0.01696134529593395),\n",
       " ('Fwd IAT Total', 0.015632930791792538),\n",
       " ('Flow Duration', 0.014991012457331759),\n",
       " ('Fwd Header Length', 0.01384075237871106),\n",
       " ('Fwd IAT Mean', 0.013499247222093017),\n",
       " ('act_data_pkt_fwd', 0.012740294990996213),\n",
       " ('Total Fwd Packets', 0.012517789583998731),\n",
       " ('Flow IAT Std', 0.011925659708149534),\n",
       " ('Down/Up Ratio', 0.01177325400582616),\n",
       " ('Fwd Packet Length Min', 0.011561218587349573),\n",
       " ('Avg Fwd Segment Size', 0.01142088485949061),\n",
       " ('Fwd Header Length.1', 0.01013801612819308),\n",
       " ('Flow Packets/s', 0.009983114334921921),\n",
       " ('Fwd Packet Length Max', 0.009952949734476621),\n",
       " ('Fwd Packet Length Std', 0.009627211841149723),\n",
       " ('URG Flag Count', 0.009598032966189196),\n",
       " ('Fwd Packet Length Mean', 0.00954783861499063),\n",
       " ('FIN Flag Count', 0.008782593987653265),\n",
       " ('Subflow Bwd Bytes', 0.00865102270380367),\n",
       " ('Subflow Fwd Packets', 0.008408841356684058),\n",
       " ('Bwd Header Length', 0.007911845579263022),\n",
       " ('Init_Win_bytes_backward', 0.007623649971473805),\n",
       " ('Bwd IAT Total', 0.007199225380517604),\n",
       " ('Total Backward Packets', 0.0071017024601378095),\n",
       " ('Subflow Fwd Bytes', 0.007095821169383248),\n",
       " ('Flow IAT Mean', 0.006939041518895058),\n",
       " ('Total Length of Fwd Packets', 0.006866067296525041),\n",
       " ('Fwd IAT Min', 0.005780870603072565),\n",
       " ('Bwd Packets/s', 0.005702524430812256),\n",
       " ('Flow IAT Min', 0.005610235266101172),\n",
       " ('SYN Flag Count', 0.005522401196249202),\n",
       " ('Subflow Bwd Packets', 0.005284237568322653),\n",
       " ('Bwd IAT Max', 0.005172058158042544),\n",
       " ('Bwd IAT Std', 0.0043482240644155635),\n",
       " ('Bwd IAT Mean', 0.004346602083637651),\n",
       " ('Fwd PSH Flags', 0.004284865759297842),\n",
       " ('Total Length of Bwd Packets', 0.004023603775343353),\n",
       " ('Idle Std', 0.0032801000015675015),\n",
       " ('Flow Bytes/s', 0.0029869346555815722),\n",
       " ('Bwd IAT Min', 0.0027243667485086433),\n",
       " ('Active Max', 0.0023325399666108775),\n",
       " ('Active Min', 0.0015724834590897748),\n",
       " ('Active Mean', 0.0015342930033865523),\n",
       " ('Active Std', 0.0002523706463537415),\n",
       " ('CWE Flag Count', 1.1570045490948097e-05),\n",
       " ('Fwd URG Flags', 8.759061542649671e-06),\n",
       " ('RST Flag Count', 1.0624354556565094e-06),\n",
       " ('ECE Flag Count', 3.8498498204810757e-07),\n",
       " ('Bwd PSH Flags', 0.0),\n",
       " ('Bwd URG Flags', 0.0),\n",
       " ('Fwd Avg Bytes/Bulk', 0.0),\n",
       " ('Fwd Avg Packets/Bulk', 0.0),\n",
       " ('Fwd Avg Bulk Rate', 0.0),\n",
       " ('Bwd Avg Bytes/Bulk', 0.0),\n",
       " ('Bwd Avg Packets/Bulk', 0.0),\n",
       " ('Bwd Avg Bulk Rate', 0.0)]"
      ]
     },
     "execution_count": 22,
     "metadata": {},
     "output_type": "execute_result"
    }
   ],
   "source": [
    "feature_imp_lst   ##Printing features names along with their scores"
   ]
  },
  {
   "cell_type": "code",
   "execution_count": 23,
   "id": "9f36cb3d",
   "metadata": {},
   "outputs": [],
   "source": [
    "top_f = feature_imp_lst[:30]  ##Considering top 30 features"
   ]
  },
  {
   "cell_type": "code",
   "execution_count": 24,
   "id": "65851ee4",
   "metadata": {},
   "outputs": [
    {
     "data": {
      "text/plain": [
       "[('PSH Flag Count', 0.05586059216989661),\n",
       " ('Destination Port', 0.047991462528883526),\n",
       " ('min_seg_size_forward', 0.041797705178049316),\n",
       " ('Bwd Packet Length Mean', 0.04081833056375885),\n",
       " ('Avg Bwd Segment Size', 0.03580018984529579),\n",
       " ('Average Packet Size', 0.03094579941010607),\n",
       " ('Init_Win_bytes_forward', 0.03077313278869081),\n",
       " ('ACK Flag Count', 0.030280377236033412),\n",
       " ('Fwd IAT Std', 0.03027548885168945),\n",
       " ('Packet Length Std', 0.029689322028411517),\n",
       " ('Packet Length Mean', 0.029535430006451917),\n",
       " ('Bwd Packet Length Max', 0.028399159713345737),\n",
       " ('Packet Length Variance', 0.026095413090923923),\n",
       " ('Bwd Packet Length Min', 0.02600745766978652),\n",
       " ('Bwd Packet Length Std', 0.0254480220027235),\n",
       " ('Fwd IAT Max', 0.024003774987161414),\n",
       " ('Flow IAT Max', 0.023026358849158598),\n",
       " ('Idle Min', 0.020794449133438732),\n",
       " ('Idle Max', 0.01995983197142777),\n",
       " ('Max Packet Length', 0.018816658651158755),\n",
       " ('Fwd Packets/s', 0.018811448191202784),\n",
       " ('Min Packet Length', 0.017797742292609296),\n",
       " ('Idle Mean', 0.01696134529593395),\n",
       " ('Fwd IAT Total', 0.015632930791792538),\n",
       " ('Flow Duration', 0.014991012457331759),\n",
       " ('Fwd Header Length', 0.01384075237871106),\n",
       " ('Fwd IAT Mean', 0.013499247222093017),\n",
       " ('act_data_pkt_fwd', 0.012740294990996213),\n",
       " ('Total Fwd Packets', 0.012517789583998731),\n",
       " ('Flow IAT Std', 0.011925659708149534)]"
      ]
     },
     "execution_count": 24,
     "metadata": {},
     "output_type": "execute_result"
    }
   ],
   "source": [
    "top_f"
   ]
  },
  {
   "cell_type": "code",
   "execution_count": 25,
   "id": "2a276bd9",
   "metadata": {},
   "outputs": [],
   "source": [
    "l = list((list(zip(*top_f))[0]))\n",
    "l.append(\"Label\")"
   ]
  },
  {
   "cell_type": "code",
   "execution_count": 26,
   "id": "8cbf4896",
   "metadata": {},
   "outputs": [],
   "source": [
    "new_df = df[list(l)]"
   ]
  },
  {
   "cell_type": "code",
   "execution_count": 27,
   "id": "eddc0e2c",
   "metadata": {},
   "outputs": [
    {
     "data": {
      "text/html": [
       "<div>\n",
       "<style scoped>\n",
       "    .dataframe tbody tr th:only-of-type {\n",
       "        vertical-align: middle;\n",
       "    }\n",
       "\n",
       "    .dataframe tbody tr th {\n",
       "        vertical-align: top;\n",
       "    }\n",
       "\n",
       "    .dataframe thead th {\n",
       "        text-align: right;\n",
       "    }\n",
       "</style>\n",
       "<table border=\"1\" class=\"dataframe\">\n",
       "  <thead>\n",
       "    <tr style=\"text-align: right;\">\n",
       "      <th></th>\n",
       "      <th>PSH Flag Count</th>\n",
       "      <th>Destination Port</th>\n",
       "      <th>min_seg_size_forward</th>\n",
       "      <th>Bwd Packet Length Mean</th>\n",
       "      <th>Avg Bwd Segment Size</th>\n",
       "      <th>Average Packet Size</th>\n",
       "      <th>Init_Win_bytes_forward</th>\n",
       "      <th>ACK Flag Count</th>\n",
       "      <th>Fwd IAT Std</th>\n",
       "      <th>Packet Length Std</th>\n",
       "      <th>...</th>\n",
       "      <th>Min Packet Length</th>\n",
       "      <th>Idle Mean</th>\n",
       "      <th>Fwd IAT Total</th>\n",
       "      <th>Flow Duration</th>\n",
       "      <th>Fwd Header Length</th>\n",
       "      <th>Fwd IAT Mean</th>\n",
       "      <th>act_data_pkt_fwd</th>\n",
       "      <th>Total Fwd Packets</th>\n",
       "      <th>Flow IAT Std</th>\n",
       "      <th>Label</th>\n",
       "    </tr>\n",
       "  </thead>\n",
       "  <tbody>\n",
       "    <tr>\n",
       "      <th>0</th>\n",
       "      <td>0</td>\n",
       "      <td>49188</td>\n",
       "      <td>20</td>\n",
       "      <td>0.0</td>\n",
       "      <td>0.0</td>\n",
       "      <td>9.0</td>\n",
       "      <td>329</td>\n",
       "      <td>1</td>\n",
       "      <td>0.0</td>\n",
       "      <td>0.0</td>\n",
       "      <td>...</td>\n",
       "      <td>6</td>\n",
       "      <td>0.0</td>\n",
       "      <td>4</td>\n",
       "      <td>4</td>\n",
       "      <td>40</td>\n",
       "      <td>4.0</td>\n",
       "      <td>1</td>\n",
       "      <td>2</td>\n",
       "      <td>0.0</td>\n",
       "      <td>0</td>\n",
       "    </tr>\n",
       "    <tr>\n",
       "      <th>1</th>\n",
       "      <td>0</td>\n",
       "      <td>49188</td>\n",
       "      <td>20</td>\n",
       "      <td>0.0</td>\n",
       "      <td>0.0</td>\n",
       "      <td>9.0</td>\n",
       "      <td>329</td>\n",
       "      <td>1</td>\n",
       "      <td>0.0</td>\n",
       "      <td>0.0</td>\n",
       "      <td>...</td>\n",
       "      <td>6</td>\n",
       "      <td>0.0</td>\n",
       "      <td>1</td>\n",
       "      <td>1</td>\n",
       "      <td>40</td>\n",
       "      <td>1.0</td>\n",
       "      <td>1</td>\n",
       "      <td>2</td>\n",
       "      <td>0.0</td>\n",
       "      <td>0</td>\n",
       "    </tr>\n",
       "    <tr>\n",
       "      <th>2</th>\n",
       "      <td>0</td>\n",
       "      <td>49188</td>\n",
       "      <td>20</td>\n",
       "      <td>0.0</td>\n",
       "      <td>0.0</td>\n",
       "      <td>9.0</td>\n",
       "      <td>329</td>\n",
       "      <td>1</td>\n",
       "      <td>0.0</td>\n",
       "      <td>0.0</td>\n",
       "      <td>...</td>\n",
       "      <td>6</td>\n",
       "      <td>0.0</td>\n",
       "      <td>1</td>\n",
       "      <td>1</td>\n",
       "      <td>40</td>\n",
       "      <td>1.0</td>\n",
       "      <td>1</td>\n",
       "      <td>2</td>\n",
       "      <td>0.0</td>\n",
       "      <td>0</td>\n",
       "    </tr>\n",
       "    <tr>\n",
       "      <th>3</th>\n",
       "      <td>0</td>\n",
       "      <td>49188</td>\n",
       "      <td>20</td>\n",
       "      <td>0.0</td>\n",
       "      <td>0.0</td>\n",
       "      <td>9.0</td>\n",
       "      <td>329</td>\n",
       "      <td>1</td>\n",
       "      <td>0.0</td>\n",
       "      <td>0.0</td>\n",
       "      <td>...</td>\n",
       "      <td>6</td>\n",
       "      <td>0.0</td>\n",
       "      <td>1</td>\n",
       "      <td>1</td>\n",
       "      <td>40</td>\n",
       "      <td>1.0</td>\n",
       "      <td>1</td>\n",
       "      <td>2</td>\n",
       "      <td>0.0</td>\n",
       "      <td>0</td>\n",
       "    </tr>\n",
       "    <tr>\n",
       "      <th>4</th>\n",
       "      <td>0</td>\n",
       "      <td>49486</td>\n",
       "      <td>20</td>\n",
       "      <td>0.0</td>\n",
       "      <td>0.0</td>\n",
       "      <td>9.0</td>\n",
       "      <td>245</td>\n",
       "      <td>1</td>\n",
       "      <td>0.0</td>\n",
       "      <td>0.0</td>\n",
       "      <td>...</td>\n",
       "      <td>6</td>\n",
       "      <td>0.0</td>\n",
       "      <td>3</td>\n",
       "      <td>3</td>\n",
       "      <td>40</td>\n",
       "      <td>3.0</td>\n",
       "      <td>1</td>\n",
       "      <td>2</td>\n",
       "      <td>0.0</td>\n",
       "      <td>0</td>\n",
       "    </tr>\n",
       "  </tbody>\n",
       "</table>\n",
       "<p>5 rows × 31 columns</p>\n",
       "</div>"
      ],
      "text/plain": [
       "   PSH Flag Count  Destination Port  min_seg_size_forward  \\\n",
       "0               0             49188                    20   \n",
       "1               0             49188                    20   \n",
       "2               0             49188                    20   \n",
       "3               0             49188                    20   \n",
       "4               0             49486                    20   \n",
       "\n",
       "   Bwd Packet Length Mean  Avg Bwd Segment Size  Average Packet Size  \\\n",
       "0                     0.0                   0.0                  9.0   \n",
       "1                     0.0                   0.0                  9.0   \n",
       "2                     0.0                   0.0                  9.0   \n",
       "3                     0.0                   0.0                  9.0   \n",
       "4                     0.0                   0.0                  9.0   \n",
       "\n",
       "   Init_Win_bytes_forward  ACK Flag Count  Fwd IAT Std  Packet Length Std  \\\n",
       "0                     329               1          0.0                0.0   \n",
       "1                     329               1          0.0                0.0   \n",
       "2                     329               1          0.0                0.0   \n",
       "3                     329               1          0.0                0.0   \n",
       "4                     245               1          0.0                0.0   \n",
       "\n",
       "   ...  Min Packet Length  Idle Mean  Fwd IAT Total  Flow Duration  \\\n",
       "0  ...                  6        0.0              4              4   \n",
       "1  ...                  6        0.0              1              1   \n",
       "2  ...                  6        0.0              1              1   \n",
       "3  ...                  6        0.0              1              1   \n",
       "4  ...                  6        0.0              3              3   \n",
       "\n",
       "   Fwd Header Length  Fwd IAT Mean  act_data_pkt_fwd  Total Fwd Packets  \\\n",
       "0                 40           4.0                 1                  2   \n",
       "1                 40           1.0                 1                  2   \n",
       "2                 40           1.0                 1                  2   \n",
       "3                 40           1.0                 1                  2   \n",
       "4                 40           3.0                 1                  2   \n",
       "\n",
       "   Flow IAT Std  Label  \n",
       "0           0.0      0  \n",
       "1           0.0      0  \n",
       "2           0.0      0  \n",
       "3           0.0      0  \n",
       "4           0.0      0  \n",
       "\n",
       "[5 rows x 31 columns]"
      ]
     },
     "execution_count": 27,
     "metadata": {},
     "output_type": "execute_result"
    }
   ],
   "source": [
    "new_df.head()"
   ]
  },
  {
   "cell_type": "code",
   "execution_count": 28,
   "id": "3f38d539",
   "metadata": {},
   "outputs": [],
   "source": [
    "X = new_df.iloc[:,:-1]\n",
    "Y = new_df.iloc[:,-1]"
   ]
  },
  {
   "cell_type": "markdown",
   "id": "aec7ceae",
   "metadata": {},
   "source": [
    "## Train Test Split"
   ]
  },
  {
   "cell_type": "code",
   "execution_count": 29,
   "id": "20d6cb6d",
   "metadata": {},
   "outputs": [],
   "source": [
    "from sklearn.model_selection import train_test_split\n",
    "X_train, X_test, y_train, y_test = train_test_split(X, Y, test_size=0.4, random_state=42, shuffle=True)"
   ]
  },
  {
   "cell_type": "markdown",
   "id": "649e837a",
   "metadata": {},
   "source": [
    "## Trying out different ML Models"
   ]
  },
  {
   "cell_type": "code",
   "execution_count": null,
   "id": "2f0b6439",
   "metadata": {},
   "outputs": [],
   "source": []
  },
  {
   "cell_type": "markdown",
   "id": "8bf30f53",
   "metadata": {},
   "source": [
    "## Random Forest"
   ]
  },
  {
   "cell_type": "code",
   "execution_count": 30,
   "id": "a52aeaa7",
   "metadata": {},
   "outputs": [
    {
     "data": {
      "text/plain": [
       "RandomForestClassifier()"
      ]
     },
     "execution_count": 30,
     "metadata": {},
     "output_type": "execute_result"
    }
   ],
   "source": [
    "##Random Forest\n",
    "clf = RandomForestClassifier(n_estimators = 100) \n",
    "clf.fit(X_train, y_train)"
   ]
  },
  {
   "cell_type": "code",
   "execution_count": 31,
   "id": "2e1ef445",
   "metadata": {},
   "outputs": [],
   "source": [
    "y_pred = clf.predict(X_test)"
   ]
  },
  {
   "cell_type": "code",
   "execution_count": 32,
   "id": "31253618",
   "metadata": {},
   "outputs": [
    {
     "name": "stdout",
     "output_type": "stream",
     "text": [
      "Accuracy : 0.9985448450295319\n",
      "Precision Score : 0.9985159787188497\n",
      "Recall Score : 0.9985448450295319\n",
      "F1 Score : 0.9985276281826314\n"
     ]
    }
   ],
   "source": [
    "print(\"Accuracy :\",accuracy_score(y_test, y_pred))\n",
    "print(\"Precision Score :\",precision_score(y_test,y_pred,average=\"weighted\"))\n",
    "print(\"Recall Score :\", recall_score(y_test,y_pred,average=\"weighted\"))\n",
    "print(\"F1 Score :\", f1_score(y_test,y_pred,average=\"weighted\"))"
   ]
  },
  {
   "cell_type": "markdown",
   "id": "5277253e",
   "metadata": {},
   "source": [
    "## Decision Trees"
   ]
  },
  {
   "cell_type": "code",
   "execution_count": 33,
   "id": "93a39e3e",
   "metadata": {},
   "outputs": [
    {
     "data": {
      "text/plain": [
       "DecisionTreeClassifier(max_depth=10, min_samples_leaf=5, random_state=100)"
      ]
     },
     "execution_count": 33,
     "metadata": {},
     "output_type": "execute_result"
    }
   ],
   "source": [
    "##Decision Trees\n",
    "clf_gini = DecisionTreeClassifier(criterion = \"gini\",random_state = 100,max_depth=10, min_samples_leaf=5)\n",
    "clf_gini.fit(X_train, y_train)"
   ]
  },
  {
   "cell_type": "code",
   "execution_count": 34,
   "id": "8b21fbf0",
   "metadata": {},
   "outputs": [],
   "source": [
    "y_pred = clf_gini.predict(X_test)"
   ]
  },
  {
   "cell_type": "code",
   "execution_count": 35,
   "id": "f8ad5418",
   "metadata": {},
   "outputs": [
    {
     "name": "stdout",
     "output_type": "stream",
     "text": [
      "Accuracy : 0.9954488834823998\n",
      "Precision Score : 0.9939650805523116\n",
      "Recall Score : 0.9954488834823998\n",
      "F1 Score : 0.9945612203598636\n"
     ]
    }
   ],
   "source": [
    "print(\"Accuracy :\",accuracy_score(y_test, y_pred))\n",
    "print(\"Precision Score :\",precision_score(y_test,y_pred,average=\"weighted\"))\n",
    "print(\"Recall Score :\", recall_score(y_test,y_pred,average=\"weighted\"))\n",
    "print(\"F1 Score :\", f1_score(y_test,y_pred,average=\"weighted\"))"
   ]
  },
  {
   "cell_type": "markdown",
   "id": "f31bfbba",
   "metadata": {},
   "source": [
    "## Logistic Regression"
   ]
  },
  {
   "cell_type": "code",
   "execution_count": 36,
   "id": "0e0c18d0",
   "metadata": {},
   "outputs": [
    {
     "data": {
      "text/plain": [
       "LogisticRegression(random_state=0)"
      ]
     },
     "execution_count": 36,
     "metadata": {},
     "output_type": "execute_result"
    }
   ],
   "source": [
    "##Logistic Regression\n",
    "\n",
    "classifier = LogisticRegression(random_state = 0)\n",
    "classifier.fit(X_train, y_train)"
   ]
  },
  {
   "cell_type": "code",
   "execution_count": 37,
   "id": "14a9cbf5",
   "metadata": {},
   "outputs": [],
   "source": [
    "y_pred = classifier.predict(X_test)"
   ]
  },
  {
   "cell_type": "code",
   "execution_count": 38,
   "id": "d6352b77",
   "metadata": {},
   "outputs": [
    {
     "name": "stdout",
     "output_type": "stream",
     "text": [
      "Accuracy : 0.8390223763228782\n",
      "Precision Score : 0.7887079645083674\n",
      "Recall Score : 0.8390223763228782\n",
      "F1 Score : 0.8103009888228737\n"
     ]
    }
   ],
   "source": [
    "print(\"Accuracy :\",accuracy_score(y_test, y_pred))\n",
    "print(\"Precision Score :\",precision_score(y_test,y_pred,average=\"weighted\"))\n",
    "print(\"Recall Score :\", recall_score(y_test,y_pred,average=\"weighted\"))\n",
    "print(\"F1 Score :\", f1_score(y_test,y_pred,average=\"weighted\"))"
   ]
  },
  {
   "cell_type": "code",
   "execution_count": null,
   "id": "758e9cd2",
   "metadata": {},
   "outputs": [],
   "source": []
  }
 ],
 "metadata": {
  "kernelspec": {
   "display_name": "Python 3 (ipykernel)",
   "language": "python",
   "name": "python3"
  },
  "language_info": {
   "codemirror_mode": {
    "name": "ipython",
    "version": 3
   },
   "file_extension": ".py",
   "mimetype": "text/x-python",
   "name": "python",
   "nbconvert_exporter": "python",
   "pygments_lexer": "ipython3",
   "version": "3.7.11"
  }
 },
 "nbformat": 4,
 "nbformat_minor": 5
}
