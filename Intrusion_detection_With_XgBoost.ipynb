{
 "cells": [
  {
   "cell_type": "code",
   "execution_count": 1,
   "id": "c253323f",
   "metadata": {},
   "outputs": [],
   "source": [
    "##Importing all the required libraries\n",
    "\n",
    "import numpy as np\n",
    "import pandas as pd \n",
    "from sklearn.metrics import precision_score\n",
    "from sklearn.metrics import recall_score\n",
    "from sklearn.metrics import f1_score\n",
    "from sklearn.metrics import accuracy_score\n",
    "import warnings\n",
    "warnings.filterwarnings('ignore')"
   ]
  },
  {
   "cell_type": "code",
   "execution_count": 2,
   "id": "c695bec4",
   "metadata": {},
   "outputs": [],
   "source": [
    "##Reading the CSV files\n",
    "\n",
    "df_mon = pd.read_csv(\"Monday-WorkingHours.pcap_ISCX.csv\")\n",
    "df_tue = pd.read_csv(\"Tuesday-WorkingHours.pcap_ISCX.csv\")\n",
    "df_wed = pd.read_csv(\"Wednesday-workingHours.pcap_ISCX.csv\")\n",
    "df_thur_mor = pd.read_csv(\"Thursday-WorkingHours-Morning-WebAttacks.pcap_ISCX.csv\")\n",
    "df_thur_after = pd.read_csv(\"Thursday-WorkingHours-Afternoon-Infilteration.pcap_ISCX.csv\")\n",
    "df_fri_mor = pd.read_csv(\"Friday-WorkingHours-Morning.pcap_ISCX.csv\")\n",
    "df_fri_after1 = pd.read_csv(\"Friday-WorkingHours-Afternoon-PortScan.pcap_ISCX.csv\")\n",
    "df_fri_after2 = pd.read_csv(\"Friday-WorkingHours-Afternoon-DDos.pcap_ISCX.csv\")"
   ]
  },
  {
   "cell_type": "code",
   "execution_count": 3,
   "id": "0e2c9b80",
   "metadata": {},
   "outputs": [],
   "source": [
    "df = pd.DataFrame()"
   ]
  },
  {
   "cell_type": "code",
   "execution_count": 4,
   "id": "1f566725",
   "metadata": {},
   "outputs": [],
   "source": [
    "##Merging all the dataframes into one\n",
    "\n",
    "df = df.append(df_mon)\n",
    "df = df.append(df_tue)\n",
    "df = df.append(df_wed)\n",
    "df = df.append(df_thur_mor)\n",
    "df = df.append(df_thur_after)\n",
    "df = df.append(df_fri_mor)\n",
    "df = df.append(df_fri_after1)\n",
    "df = df.append(df_fri_after2)"
   ]
  },
  {
   "cell_type": "code",
   "execution_count": 5,
   "id": "ea2ec34a",
   "metadata": {},
   "outputs": [],
   "source": [
    "##Resetting Indices\n",
    "df.reset_index(drop=True,inplace=True)"
   ]
  },
  {
   "cell_type": "code",
   "execution_count": 6,
   "id": "3f753d50",
   "metadata": {},
   "outputs": [],
   "source": [
    "##Dropping NaN values\n",
    "df.dropna(inplace=True)"
   ]
  },
  {
   "cell_type": "code",
   "execution_count": 7,
   "id": "37ecff4e",
   "metadata": {},
   "outputs": [],
   "source": [
    "df.columns = df.columns.str.strip()"
   ]
  },
  {
   "cell_type": "code",
   "execution_count": 8,
   "id": "fe1429d6",
   "metadata": {},
   "outputs": [],
   "source": [
    "##Dropping values with infinity\n",
    "df.drop(df[df[\"Flow Bytes/s\"] == np.inf].index, inplace=True)"
   ]
  },
  {
   "cell_type": "code",
   "execution_count": 9,
   "id": "caf978f2",
   "metadata": {},
   "outputs": [],
   "source": [
    "df.reset_index(drop=True,inplace=True)"
   ]
  },
  {
   "cell_type": "code",
   "execution_count": 10,
   "id": "dc9acba0",
   "metadata": {},
   "outputs": [],
   "source": [
    "##Factorizing the labels inorder to calculate the feature importance.\n",
    "df['Label'] = pd.factorize(df['Label'])[0]"
   ]
  },
  {
   "cell_type": "code",
   "execution_count": 11,
   "id": "373c994a",
   "metadata": {},
   "outputs": [
    {
     "data": {
      "text/plain": [
       "array([ 0,  1,  2,  3,  4,  5,  6,  7,  8,  9, 10, 11, 12, 13, 14],\n",
       "      dtype=int64)"
      ]
     },
     "execution_count": 11,
     "metadata": {},
     "output_type": "execute_result"
    }
   ],
   "source": [
    "df[\"Label\"].unique()"
   ]
  },
  {
   "cell_type": "code",
   "execution_count": 12,
   "id": "b369210a",
   "metadata": {},
   "outputs": [],
   "source": [
    "X = df.iloc[:,:-1] \n",
    "Y = df.iloc[:,-1]"
   ]
  },
  {
   "cell_type": "markdown",
   "id": "1261a4c2",
   "metadata": {},
   "source": [
    "## Feature Selection"
   ]
  },
  {
   "cell_type": "code",
   "execution_count": 13,
   "id": "4839e1ef",
   "metadata": {},
   "outputs": [
    {
     "name": "stdout",
     "output_type": "stream",
     "text": [
      "[4.51105558e-02 1.54724710e-02 1.23154348e-02 8.40118079e-03\n",
      " 1.01789302e-02 6.18750128e-03 9.02717955e-03 1.02162384e-02\n",
      " 1.00363357e-02 8.44466079e-03 2.84124112e-02 3.20908363e-02\n",
      " 3.47362960e-02 3.72328189e-02 3.91930546e-03 1.31185387e-02\n",
      " 9.47945496e-03 9.64529496e-03 2.39967703e-02 5.23883633e-03\n",
      " 1.80403153e-02 1.04605458e-02 2.89777944e-02 3.31372848e-02\n",
      " 5.76268522e-03 7.90803291e-03 4.64446280e-03 4.43152178e-03\n",
      " 7.61356313e-03 2.17880948e-03 5.12266172e-03 0.00000000e+00\n",
      " 4.31806529e-06 0.00000000e+00 9.80363898e-03 7.14381194e-03\n",
      " 1.65306027e-02 5.99684921e-03 1.70101731e-02 1.31208942e-02\n",
      " 2.92180604e-02 2.60674420e-02 1.42836210e-02 8.15285893e-03\n",
      " 5.53791458e-03 1.07702386e-06 6.19548854e-02 2.93802133e-02\n",
      " 9.60231504e-03 1.48876434e-05 1.44117579e-06 1.42018133e-02\n",
      " 2.94273611e-02 1.25802887e-02 2.96149277e-02 8.69664467e-03\n",
      " 0.00000000e+00 0.00000000e+00 0.00000000e+00 0.00000000e+00\n",
      " 0.00000000e+00 0.00000000e+00 8.62746282e-03 5.66039662e-03\n",
      " 5.94027264e-03 6.63293564e-03 2.65882424e-02 6.79345005e-03\n",
      " 1.29664012e-02 3.69659803e-02 1.67758650e-03 2.56466394e-04\n",
      " 1.98480509e-03 1.47878277e-03 2.72867707e-02 3.37962170e-03\n",
      " 2.18948170e-02 2.19812392e-02]\n"
     ]
    }
   ],
   "source": [
    "##Calculating the importance score of all the features\n",
    "\n",
    "from sklearn.ensemble import ExtraTreesClassifier\n",
    "import matplotlib.pyplot as plt\n",
    "model = ExtraTreesClassifier()\n",
    "model.fit(X,Y)\n",
    "print(model.feature_importances_)"
   ]
  },
  {
   "cell_type": "code",
   "execution_count": 14,
   "id": "bec8b663",
   "metadata": {},
   "outputs": [],
   "source": [
    "feature_imp = model.feature_importances_"
   ]
  },
  {
   "cell_type": "code",
   "execution_count": 15,
   "id": "48d16c72",
   "metadata": {},
   "outputs": [],
   "source": [
    "feature_imp_lst = []\n",
    "for i in range(len(feature_imp)):\n",
    "    feature_imp_lst.append((df.columns[i],feature_imp[i]))"
   ]
  },
  {
   "cell_type": "code",
   "execution_count": 16,
   "id": "0e249081",
   "metadata": {},
   "outputs": [],
   "source": [
    "feature_imp_lst.sort(key=lambda x:x[1],reverse=True)"
   ]
  },
  {
   "cell_type": "code",
   "execution_count": 17,
   "id": "2b141834",
   "metadata": {},
   "outputs": [],
   "source": [
    "top_f = feature_imp_lst[:30]  ##Considering top 30 features"
   ]
  },
  {
   "cell_type": "code",
   "execution_count": 18,
   "id": "a341b35c",
   "metadata": {},
   "outputs": [],
   "source": [
    "l = list((list(zip(*top_f))[0]))\n",
    "l.append(\"Label\")"
   ]
  },
  {
   "cell_type": "code",
   "execution_count": 19,
   "id": "633a3af1",
   "metadata": {},
   "outputs": [],
   "source": [
    "new_df = df[list(l)]"
   ]
  },
  {
   "cell_type": "code",
   "execution_count": 20,
   "id": "5b3ec1b3",
   "metadata": {},
   "outputs": [],
   "source": [
    "X = new_df.iloc[:,:-1]\n",
    "Y = new_df.iloc[:,-1]"
   ]
  },
  {
   "cell_type": "code",
   "execution_count": 21,
   "id": "c51ff32e",
   "metadata": {},
   "outputs": [],
   "source": [
    "## Train Test Split"
   ]
  },
  {
   "cell_type": "code",
   "execution_count": 22,
   "id": "b588e0c8",
   "metadata": {},
   "outputs": [],
   "source": [
    "from sklearn.model_selection import train_test_split\n",
    "X_train, X_test, y_train, y_test = train_test_split(X, Y, test_size=0.4, random_state=42, shuffle=True)"
   ]
  },
  {
   "cell_type": "markdown",
   "id": "cd0ee9e5",
   "metadata": {},
   "source": [
    "## XgBoost"
   ]
  },
  {
   "cell_type": "code",
   "execution_count": 23,
   "id": "cf5720f2",
   "metadata": {},
   "outputs": [],
   "source": [
    "import xgboost as xgb"
   ]
  },
  {
   "cell_type": "code",
   "execution_count": 24,
   "id": "228d180c",
   "metadata": {},
   "outputs": [],
   "source": [
    "## creating the Xgboost specific DMatrix data format from the numpy array\n",
    "dtrain = xgb.DMatrix(X_train, label=y_train)\n",
    "dtest = xgb.DMatrix(X_test, label=y_test)"
   ]
  },
  {
   "cell_type": "code",
   "execution_count": 25,
   "id": "49a44fe0",
   "metadata": {},
   "outputs": [],
   "source": [
    "## Using svmlight for less memory consumption, first dump the numpy array into svmlight format and then just pass the filename \n",
    "## to DMatrix:\n",
    "from sklearn.datasets import dump_svmlight_file\n",
    "\n",
    "dump_svmlight_file(X_train, y_train, 'dtrain.svm', zero_based=True)\n",
    "dump_svmlight_file(X_test, y_test, 'dtest.svm', zero_based=True)\n",
    "dtrain_svm = xgb.DMatrix('dtrain.svm')\n",
    "dtest_svm = xgb.DMatrix('dtest.svm')"
   ]
  },
  {
   "cell_type": "code",
   "execution_count": 26,
   "id": "feaf7ea1",
   "metadata": {},
   "outputs": [],
   "source": [
    "## Setting parameters for the XgBoost.\n",
    "param = {\n",
    "    'max_depth': 10,  # the maximum depth of each tree\n",
    "    'eta': 0.3,  # the training step for each iteration\n",
    "    'num_class': 15}  # the number of classes that exist in this datset\n",
    "num_round = 20  # the number of training iterations"
   ]
  },
  {
   "cell_type": "code",
   "execution_count": 27,
   "id": "6185bda9",
   "metadata": {},
   "outputs": [],
   "source": [
    "## Training the model.\n",
    "bst = xgb.train(param, dtrain, num_round)"
   ]
  },
  {
   "cell_type": "code",
   "execution_count": 28,
   "id": "42066635",
   "metadata": {},
   "outputs": [],
   "source": [
    "## Predicting labels\n",
    "y_pred = bst.predict(dtest)"
   ]
  },
  {
   "cell_type": "code",
   "execution_count": 29,
   "id": "48709e9d",
   "metadata": {},
   "outputs": [
    {
     "name": "stdout",
     "output_type": "stream",
     "text": [
      "Accuracy : 0.9987154676961785\n",
      "Precision Score : 0.9985982190081907\n",
      "Recall Score : 0.9987154676961785\n",
      "F1 Score : 0.9986131337564671\n"
     ]
    }
   ],
   "source": [
    "print(\"Accuracy :\",accuracy_score(y_test, y_pred))\n",
    "print(\"Precision Score :\",precision_score(y_test,y_pred,average=\"weighted\"))\n",
    "print(\"Recall Score :\", recall_score(y_test,y_pred,average=\"weighted\"))\n",
    "print(\"F1 Score :\", f1_score(y_test,y_pred,average=\"weighted\"))"
   ]
  },
  {
   "cell_type": "code",
   "execution_count": null,
   "id": "22c26077",
   "metadata": {},
   "outputs": [],
   "source": []
  }
 ],
 "metadata": {
  "kernelspec": {
   "display_name": "Python 3 (ipykernel)",
   "language": "python",
   "name": "python3"
  },
  "language_info": {
   "codemirror_mode": {
    "name": "ipython",
    "version": 3
   },
   "file_extension": ".py",
   "mimetype": "text/x-python",
   "name": "python",
   "nbconvert_exporter": "python",
   "pygments_lexer": "ipython3",
   "version": "3.7.11"
  }
 },
 "nbformat": 4,
 "nbformat_minor": 5
}
